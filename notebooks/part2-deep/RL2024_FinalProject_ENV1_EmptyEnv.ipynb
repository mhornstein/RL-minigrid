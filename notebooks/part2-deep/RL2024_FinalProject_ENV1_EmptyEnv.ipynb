{
  "cells": [
    {
      "cell_type": "markdown",
      "metadata": {
        "id": "SLapsBtwOO6m"
      },
      "source": [
        "# Mid Semester Project - DEEP Reinforcements Learning\n",
        "# ENV1 - EMPTY GRID ENVIRONMENT\n",
        "Dear students,<br> this is the template notebook. Please copy it by clicking on the \"File\" tab and then on \"Save a copy into drive\".\n",
        "\n",
        "---\n",
        "<br>\n",
        "\n",
        "### Name and ID:\n",
        "Student 1:\n",
        "<br>\n",
        "Student 2:\n",
        "<br><br>\n",
        "<img src=\"https://raw.githubusercontent.com/Farama-Foundation/Minigrid/master/minigrid-text.png\">\n",
        "\n",
        "### https://minigrid.farama.org/"
      ]
    },
    {
      "cell_type": "markdown",
      "metadata": {
        "id": "4-OzvtfyOYL8"
      },
      "source": [
        "# Pre-Requisit"
      ]
    },
    {
      "cell_type": "markdown",
      "metadata": {
        "id": "fUNptoCrObZs"
      },
      "source": [
        "## Installs"
      ]
    },
    {
      "cell_type": "code",
      "execution_count": null,
      "metadata": {
        "id": "-YTEVlS-OAQ-"
      },
      "outputs": [],
      "source": [
        "'''\n",
        "%%capture\n",
        "!sudo apt-get update\n",
        "!sudo apt-get install -y xvfb ffmpeg freeglut3-dev\n",
        "!pip install 'imageio==2.4.0'\n",
        "!pip install gym\n",
        "!pip install gym-minigrid\n",
        "!pip install pygame\n",
        "!apt-get install python-opengl -y\n",
        "!apt install xvfb -y\n",
        "!pip install pyvirtualdisplay\n",
        "!pip install piglet\n",
        "!pip install gym\n",
        "!apt-get install python-opengl -y\n",
        "!apt install xvfb -y\n",
        "!pip install -U --no-cache-dir gdown --pre\n",
        "'''"
      ]
    },
    {
      "cell_type": "markdown",
      "metadata": {
        "id": "SEFhAxcrOhB1"
      },
      "source": [
        "## Imports"
      ]
    },
    {
      "cell_type": "code",
      "execution_count": null,
      "metadata": {
        "colab": {
          "base_uri": "https://localhost:8080/"
        },
        "id": "RM8i62VoOnA-",
        "outputId": "408240b2-9e5e-470c-bae3-04f5a72f6b88"
      },
      "outputs": [
        {
          "name": "stdout",
          "output_type": "stream",
          "text": [
            "The autoreload extension is already loaded. To reload it, use:\n",
            "  %reload_ext autoreload\n"
          ]
        }
      ],
      "source": [
        "import numpy as np\n",
        "import gym\n",
        "from gym import logger as gymlogger\n",
        "from gym.utils import seeding\n",
        "from gym import error, spaces, utils\n",
        "gymlogger.set_level(40) # error only\n",
        "import glob\n",
        "import io\n",
        "import base64\n",
        "import os\n",
        "import random\n",
        "import matplotlib.pyplot as plt\n",
        "%matplotlib inline\n",
        "plt.rcParams['figure.figsize'] = (10.0, 8.0) # set default size of plots\n",
        "plt.rcParams['image.interpolation'] = 'nearest'\n",
        "plt.rcParams['image.cmap'] = 'gray'\n",
        "%load_ext autoreload\n",
        "%autoreload 2\n",
        "import math\n",
        "import glob\n",
        "from pyvirtualdisplay import Display\n",
        "from IPython.display import HTML\n",
        "from IPython import display as ipythondisplay\n",
        "import pygame\n",
        "import pyvirtualdisplay\n",
        "import imageio\n",
        "import IPython\n",
        "import time\n",
        "import cv2\n",
        "import numpy as np\n",
        "import matplotlib.pyplot as plt\n",
        "from collections import deque"
      ]
    },
    {
      "cell_type": "markdown",
      "metadata": {
        "id": "LnksgjjqOq02"
      },
      "source": [
        "## Display utils\n",
        "The cell below contains the video display configuration. No need to make changes here."
      ]
    },
    {
      "cell_type": "code",
      "execution_count": null,
      "metadata": {
        "id": "ceUl4Q9JOzpO"
      },
      "outputs": [],
      "source": [
        "def embed_mp4(filename):\n",
        "  \"\"\"Embeds an mp4 file in the notebook.\"\"\"\n",
        "  video = open(filename,'rb').read()\n",
        "  b64 = base64.b64encode(video)\n",
        "  tag = '''\n",
        "  <video width=\"640\" height=\"480\" controls>\n",
        "    <source src=\"data:video/mp4;base64,{0}\" type=\"video/mp4\">\n",
        "  Your browser does not support the video tag.\n",
        "  </video>'''.format(b64.decode())\n",
        "\n",
        "  return IPython.display.HTML(tag)\n",
        "display = pyvirtualdisplay.Display(visible=0, size=(1400, 900)).start()"
      ]
    },
    {
      "cell_type": "markdown",
      "metadata": {
        "id": "bvDlMYrxO4-7"
      },
      "source": [
        "#Env1 - Empty Env"
      ]
    },
    {
      "cell_type": "markdown",
      "metadata": {
        "id": "P34xWJJpOmQn"
      },
      "source": [
        "## Class Env"
      ]
    },
    {
      "cell_type": "code",
      "execution_count": null,
      "metadata": {
        "id": "uhkmk0Y5PCVZ"
      },
      "outputs": [],
      "source": [
        "from __future__ import annotations\n",
        "from gym_minigrid.minigrid import COLOR_NAMES\n",
        "from gym_minigrid.minigrid import Grid\n",
        "from gym_minigrid.minigrid import MissionSpace\n",
        "from gym_minigrid.minigrid import Door, Goal, Key, Wall, Lava, Floor\n",
        "from minigrid_x import MiniGridEnv\n",
        "from gym import spaces\n",
        "import random\n",
        "\n",
        "class RandomEmptyEnv_10(MiniGridEnv):\n",
        "    def __init__(\n",
        "        self,\n",
        "        size=10, # DEFINE THE WIDTH AND HEIGHT\n",
        "        agent_start_pos=(1, 1),\n",
        "        agent_start_dir = 0,\n",
        "        max_steps: int | None = None,\n",
        "        **kwargs,\n",
        "    ):\n",
        "\n",
        "        self.agent_start_pos = agent_start_pos\n",
        "        self.agent_start_dir = agent_start_dir\n",
        "\n",
        "        agent_start_x_loc =random.randint(1, 6)\n",
        "        agent_start_y_loc =random.randint(1, 6)\n",
        "\n",
        "        self.agent_start_pos = (agent_start_x_loc,agent_start_y_loc)\n",
        "\n",
        "        mission_space = MissionSpace(mission_func=self._gen_mission)\n",
        "\n",
        "        if max_steps is None:\n",
        "            max_steps = 4 * size**2\n",
        "\n",
        "        super().__init__(\n",
        "            mission_space=mission_space,\n",
        "            grid_size=size,\n",
        "            # Set this to True for maximum speed\n",
        "            see_through_walls=True,\n",
        "            max_steps=max_steps,\n",
        "            **kwargs,\n",
        "        )\n",
        "        self.action_space = spaces.Discrete(3)\n",
        "        self.walls_init = []\n",
        "\n",
        "        # change 21-09 for random env\n",
        "        self.not_goal_loc = [(col,row) for col in range(self.unwrapped.width) for row in range(self.unwrapped.height) if row == 0 or row == (self.unwrapped.width-1) or col == 0 or col == (self.unwrapped.height-1)]\n",
        "        self.not_goal_loc.append(self.agent_start_pos)\n",
        "        self.goal_pos = (self.grid.width - 2, self.grid.height - 2)\n",
        "\n",
        "    def reset(self, **kwargs):\n",
        "        # Randomize start position each time environment is reset\n",
        "        agent_start_x_loc = random.randint(1, 6)\n",
        "        agent_start_y_loc = random.randint(1, 6)\n",
        "        self.agent_start_pos = (agent_start_x_loc, agent_start_y_loc)\n",
        "\n",
        "        self.values = [0, 1, 2, 3]\n",
        "        self.agent_start_dir = random.choice(self.values)\n",
        "\n",
        "        # Recalculate not_goal_loc as it depends on the agent's start position\n",
        "        self.not_goal_loc = [(col, row) for col in range(self.unwrapped.width) for row in range(self.unwrapped.height)\n",
        "                             if row == 0 or row == (self.unwrapped.width - 1) or col == 0 or col == (self.unwrapped.height - 1)]\n",
        "        self.not_goal_loc.append(self.agent_start_pos)\n",
        "\n",
        "        # Call the reset method of the parent class\n",
        "        return super().reset(**kwargs)\n",
        "\n",
        "    @staticmethod\n",
        "    def _gen_mission():\n",
        "        return \"grand mission\"\n",
        "\n",
        "    def _gen_grid(self, width, height):\n",
        "        # Create an empty grid\n",
        "        self.grid = Grid(width, height)\n",
        "\n",
        "        # Generate the surrounding walls\n",
        "        self.grid.wall_rect(0, 0, width, height)\n",
        "\n",
        "        # Generate verical separation wall\n",
        "        # for i in range(0, height):\n",
        "        #     self.grid.set(5, i, Wall())\n",
        "\n",
        "\n",
        "        for column, row in self.walls_init:\n",
        "          self.grid.set(column, row, Wall())\n",
        "\n",
        "        self.key_pos = (6, 5)\n",
        "        self.door_pos = (6, 7)\n",
        "\n",
        "        self.goal_pos = random.choice([(8,1), (8,8), (1,8)])\n",
        "\n",
        "        self.put_obj(Goal(), self.goal_pos[0], self.goal_pos[1])\n",
        "\n",
        "        # Place the agent\n",
        "        if self.agent_start_pos is not None:\n",
        "            self.agent_pos = self.agent_start_pos\n",
        "            self.agent_dir = self.agent_start_dir\n",
        "        else:\n",
        "            self.place_agent()\n",
        "\n",
        "        self.mission = \"grand mission\"\n"
      ]
    },
    {
      "cell_type": "markdown",
      "metadata": {
        "id": "UpLk4aRJPGFT"
      },
      "source": [
        "## WRAPPER"
      ]
    },
    {
      "cell_type": "code",
      "execution_count": null,
      "metadata": {
        "id": "9KRuCLDBPKRd"
      },
      "outputs": [],
      "source": [
        "class EMPTYRGBImgObsWrapper(gym.core.ObservationWrapper):\n",
        "    \"\"\"\n",
        "    Wrapper to use fully observable RGB image as the only observation output,\n",
        "    no language/mission. This can be used to have the agent to solve the\n",
        "    gridworld in pixel space.\n",
        "    \"\"\"\n",
        "\n",
        "    def __init__(self, env, tile_size=32, plot=False, preprocess= lambda x: x):\n",
        "        super().__init__(env)\n",
        "        self.tile_size = tile_size\n",
        "        self.plot = plot\n",
        "        self.observation_space = spaces.Box(\n",
        "            low=0,\n",
        "            high=255,\n",
        "            # #the default is (320,320,3). Tile size  = 32 X 10 (grid size)\n",
        "            # TODO: BE CAREFULL TO CHANGE the shape size to be according your preprocess size/channels\n",
        "            # The env information i staken from here\n",
        "            shape=(320, 320, 3),\n",
        "            dtype='uint8'\n",
        "        )\n",
        "        self.prev_door = False\n",
        "        self.prev_key = False\n",
        "        self.action_space = spaces.Discrete(self.action_space.n)\n",
        "\n",
        "        #TODO: THINK AND TEST DIFFERENT PREPROCESS\n",
        "        self._preprocess = lambda x: x\n",
        "\n",
        "\n",
        "    def observation(self, obs):\n",
        "      env = self.unwrapped\n",
        "\n",
        "      # Call render without any unsupported keyword arguments\n",
        "      rgb_img = env.render()  # Use the default rendering behavior\n",
        "      return rgb_img\n",
        "\n",
        "    def reset(self, seed = 0, options = None):\n",
        "        self.prev_door = False\n",
        "        self.prev_key = False\n",
        "        obs, info = super().reset()\n",
        "        if self.plot:\n",
        "            plt.show()\n",
        "        return self._preprocess(obs), info\n",
        "\n",
        "    def step(self, action):\n",
        "        #action = ACTION_MAP[action]\n",
        "        obs, r, d, info, x = super().step(action)\n",
        "        obs = self._preprocess(obs)\n",
        "\n",
        "        # TODO: REWARD SHAPING\n",
        "        #we encourage you to come up with a better reward function using  self.is_door_open() and self.is_carrying_key()\n",
        "\n",
        "        return obs, r, d, info, x"
      ]
    },
    {
      "cell_type": "markdown",
      "metadata": {
        "id": "TPwDWTIIPNXB"
      },
      "source": [
        "## Env Info"
      ]
    },
    {
      "cell_type": "code",
      "execution_count": null,
      "metadata": {
        "colab": {
          "base_uri": "https://localhost:8080/",
          "height": 716
        },
        "id": "tI8qzBErPQRl",
        "outputId": "85978366-6294-4741-e7f2-1039c714b073"
      },
      "outputs": [
        {
          "name": "stdout",
          "output_type": "stream",
          "text": [
            "(320, 320, 3)\n"
          ]
        },
        {
          "data": {
            "text/plain": [
              "<matplotlib.image.AxesImage at 0x7943813a4100>"
            ]
          },
          "execution_count": 10,
          "metadata": {},
          "output_type": "execute_result"
        },
        {
          "data": {
            "image/png": "[encoded data removed]",
            "text/plain": [
              "<Figure size 1000x800 with 1 Axes>"
            ]
          },
          "metadata": {},
          "output_type": "display_data"
        }
      ],
      "source": [
        "env = EMPTYRGBImgObsWrapper(RandomEmptyEnv_10 (render_mode='rgb_array'))\n",
        "obs = env.reset()[0]\n",
        "print(obs.shape)\n",
        "screen = env.render()\n",
        "plt.imshow(screen)"
      ]
    },
    {
      "cell_type": "code",
      "execution_count": null,
      "metadata": {
        "colab": {
          "base_uri": "https://localhost:8080/"
        },
        "id": "w2ZqbGwLPQY8",
        "outputId": "1b739c58-3182-4226-c217-6694b8d40484"
      },
      "outputs": [
        {
          "name": "stdout",
          "output_type": "stream",
          "text": [
            "Number of actions: 3\n",
            "State size is: (320, 320, 3)\n"
          ]
        }
      ],
      "source": [
        "state_size = obs.shape  # Replace with your actual state size\n",
        "action_space = env.action_space\n",
        "num_actions = action_space.n\n",
        "print(f\"Number of actions: {num_actions}\")\n",
        "print(f\"State size is: {state_size}\")"
      ]
    },
    {
      "cell_type": "markdown",
      "metadata": {
        "id": "lCZavukkPVcs"
      },
      "source": [
        "## Random action"
      ]
    },
    {
      "cell_type": "code",
      "execution_count": null,
      "metadata": {
        "colab": {
          "base_uri": "https://localhost:8080/",
          "height": 519
        },
        "id": "al8T5jyyPZhf",
        "outputId": "4c0ca72c-baaa-4442-a312-793a5fd06dce"
      },
      "outputs": [
        {
          "name": "stdout",
          "output_type": "stream",
          "text": [
            "done reward= 0 num_of_steps= 33\n"
          ]
        },
        {
          "data": {
            "text/html": [
              "\n",
              "  <video width=\"640\" height=\"480\" controls>\n",
              "    <source src=\"data:video/mp4;base64,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\" type=\"video/mp4\">\n",
              "  Your browser does not support the video tag.\n",
              "  </video>"
            ],
            "text/plain": [
              "<IPython.core.display.HTML object>"
            ]
          },
          "execution_count": 14,
          "metadata": {},
          "output_type": "execute_result"
        }
      ],
      "source": [
        "env = EMPTYRGBImgObsWrapper(RandomEmptyEnv_10 (render_mode='rgb_array'))\n",
        "obs = env.reset()\n",
        "video_filename = '/content/vid.mp4'\n",
        "max_steps = 100\n",
        "# Evaluation\n",
        "with imageio.get_writer(video_filename, fps=10) as video:\n",
        "  obs = env.reset()\n",
        "  done = False\n",
        "  total_reward = 0\n",
        "  for step in range(max_steps):\n",
        "      action = env.action_space.sample()\n",
        "      obs, reward, done, _, _ = env.step(action)\n",
        "      next_obs = obs  # Get agent's position directly from the environment\n",
        "      video.append_data(env.render())\n",
        "      if done:\n",
        "        print(\"done\",\"reward=\", total_reward,\"num_of_steps=\",step)\n",
        "        break\n",
        "embed_mp4(video_filename)"
      ]
    }
  ],
  "metadata": {
    "colab": {
      "provenance": []
    },
    "kernelspec": {
      "display_name": "Python 3",
      "name": "python3"
    },
    "language_info": {
      "name": "python"
    }
  },
  "nbformat": 4,
  "nbformat_minor": 0
}
