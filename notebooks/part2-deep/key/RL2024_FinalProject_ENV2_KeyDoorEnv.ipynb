{
  "nbformat": 4,
  "nbformat_minor": 0,
  "metadata": {
    "colab": {
      "provenance": []
    },
    "kernelspec": {
      "name": "python3",
      "display_name": "Python 3"
    },
    "language_info": {
      "name": "python"
    }
  },
  "cells": [
    {
      "cell_type": "markdown",
      "source": [
        "# Mid Semester Project - DEEP Reinforcements Learning\n",
        "# ENV2 - KEY DOOR ENVIRONMENT\n",
        "Dear students,<br> this is the template notebook. Please copy it by clicking on the \"File\" tab and then on \"Save a copy into drive\".\n",
        "\n",
        "---\n",
        "<br>\n",
        "\n",
        "### Name and ID:\n",
        "Student 1:\n",
        "<br>\n",
        "Student 2:\n",
        "<br><br>\n",
        "<img src=\"https://raw.githubusercontent.com/Farama-Foundation/Minigrid/master/minigrid-text.png\">\n",
        "\n",
        "### https://minigrid.farama.org/"
      ],
      "metadata": {
        "id": "SLapsBtwOO6m"
      }
    },
    {
      "cell_type": "markdown",
      "source": [
        "# Pre-Requisit"
      ],
      "metadata": {
        "id": "4-OzvtfyOYL8"
      }
    },
    {
      "cell_type": "markdown",
      "source": [
        "## Installs"
      ],
      "metadata": {
        "id": "fUNptoCrObZs"
      }
    },
    {
      "cell_type": "code",
      "execution_count": null,
      "metadata": {
        "id": "-YTEVlS-OAQ-"
      },
      "outputs": [],
      "source": [
        "%%capture\n",
        "!sudo apt-get update\n",
        "!sudo apt-get install -y xvfb ffmpeg freeglut3-dev\n",
        "!pip install 'imageio==2.4.0'\n",
        "!pip install gym\n",
        "!pip install gym-minigrid\n",
        "!pip install pygame\n",
        "!apt-get install python-opengl -y\n",
        "!apt install xvfb -y\n",
        "!pip install pyvirtualdisplay\n",
        "!pip install piglet\n",
        "!pip install gym\n",
        "!apt-get install python-opengl -y\n",
        "!apt install xvfb -y\n",
        "!pip install -U --no-cache-dir gdown --pre"
      ]
    },
    {
      "cell_type": "markdown",
      "source": [
        "## Imports"
      ],
      "metadata": {
        "id": "SEFhAxcrOhB1"
      }
    },
    {
      "cell_type": "code",
      "source": [
        "import numpy as np\n",
        "import gym\n",
        "from gym import logger as gymlogger\n",
        "from gym.utils import seeding\n",
        "from gym import error, spaces, utils\n",
        "gymlogger.set_level(40) # error only\n",
        "import glob\n",
        "import io\n",
        "import base64\n",
        "import os\n",
        "import random\n",
        "import matplotlib.pyplot as plt\n",
        "%matplotlib inline\n",
        "plt.rcParams['figure.figsize'] = (10.0, 8.0) # set default size of plots\n",
        "plt.rcParams['image.interpolation'] = 'nearest'\n",
        "plt.rcParams['image.cmap'] = 'gray'\n",
        "%load_ext autoreload\n",
        "%autoreload 2\n",
        "import math\n",
        "import glob\n",
        "from pyvirtualdisplay import Display\n",
        "from IPython.display import HTML\n",
        "from IPython import display as ipythondisplay\n",
        "import pygame\n",
        "import pyvirtualdisplay\n",
        "import imageio\n",
        "import IPython\n",
        "import time\n",
        "import cv2\n",
        "import numpy as np\n",
        "import matplotlib.pyplot as plt\n",
        "from collections import deque"
      ],
      "metadata": {
        "colab": {
          "base_uri": "https://localhost:8080/"
        },
        "id": "RM8i62VoOnA-",
        "outputId": "3064a3aa-7810-4103-97c6-7625d29c2c29"
      },
      "execution_count": null,
      "outputs": [
        {
          "output_type": "stream",
          "name": "stderr",
          "text": [
            "/usr/local/lib/python3.10/dist-packages/gym/envs/registration.py:307: DeprecationWarning: The package name gym_minigrid has been deprecated in favor of minigrid. Please uninstall gym_minigrid and install minigrid with `pip install minigrid`. Future releases will be maintained under the new package name minigrid.\n",
            "  fn()\n"
          ]
        }
      ]
    },
    {
      "cell_type": "markdown",
      "source": [
        "## Display utils\n",
        "The cell below contains the video display configuration. No need to make changes here."
      ],
      "metadata": {
        "id": "LnksgjjqOq02"
      }
    },
    {
      "cell_type": "code",
      "source": [
        "def embed_mp4(filename):\n",
        "  \"\"\"Embeds an mp4 file in the notebook.\"\"\"\n",
        "  video = open(filename,'rb').read()\n",
        "  b64 = base64.b64encode(video)\n",
        "  tag = '''\n",
        "  <video width=\"640\" height=\"480\" controls>\n",
        "    <source src=\"data:video/mp4;base64,{0}\" type=\"video/mp4\">\n",
        "  Your browser does not support the video tag.\n",
        "  </video>'''.format(b64.decode())\n",
        "\n",
        "  return IPython.display.HTML(tag)\n",
        "display = pyvirtualdisplay.Display(visible=0, size=(1400, 900)).start()"
      ],
      "metadata": {
        "id": "ceUl4Q9JOzpO"
      },
      "execution_count": null,
      "outputs": []
    },
    {
      "cell_type": "markdown",
      "source": [
        "#Env2 - Key Door Env"
      ],
      "metadata": {
        "id": "bvDlMYrxO4-7"
      }
    },
    {
      "cell_type": "markdown",
      "source": [
        "## Class Env"
      ],
      "metadata": {
        "id": "P34xWJJpOmQn"
      }
    },
    {
      "cell_type": "code",
      "source": [
        "from __future__ import annotations\n",
        "from gym_minigrid.minigrid import COLOR_NAMES\n",
        "from gym_minigrid.minigrid import Grid\n",
        "from gym_minigrid.minigrid import MissionSpace\n",
        "from gym_minigrid.minigrid import Door, Goal, Key, Wall, Lava, Floor\n",
        "from minigrid_x import MiniGridEnv\n",
        "from gym import spaces\n",
        "import random\n",
        "\n",
        "class RandomKeyMEnv_10(MiniGridEnv):\n",
        "    def __init__(\n",
        "        self,\n",
        "        size=10,\n",
        "        agent_start_pos=(1, 1),\n",
        "        agent_start_dir=0,\n",
        "        max_steps: int | None = None,\n",
        "        **kwargs,\n",
        "    ):\n",
        "        self.agent_start_pos = agent_start_pos\n",
        "        self.agent_start_dir = agent_start_dir\n",
        "\n",
        "        mission_space = MissionSpace(mission_func=self._gen_mission)\n",
        "\n",
        "        if max_steps is None:\n",
        "            max_steps = 4 * size**2\n",
        "\n",
        "        super().__init__(\n",
        "            mission_space=mission_space,\n",
        "            grid_size=size,\n",
        "            # Set this to True for maximum speed\n",
        "            see_through_walls=True,\n",
        "            max_steps=max_steps,\n",
        "            **kwargs,\n",
        "        )\n",
        "        self.partition_col = 3\n",
        "        self.walls_init = [(self.partition_col, i) for i in range(0, self.grid.height)]\n",
        "        self.goal_pos = (self.grid.width - 2, self.grid.height - 2)\n",
        "\n",
        "\n",
        "    def get_pass_location(self):\n",
        "      return (self.partition_col, self.pass_loc)\n",
        "\n",
        "    def get_partition_column(self):\n",
        "      return self.partition_col\n",
        "\n",
        "    @staticmethod\n",
        "    def _gen_mission():\n",
        "        return \"grand mission\"\n",
        "\n",
        "    def get_k_pos(self):\n",
        "      return self.key_pos\n",
        "\n",
        "    def get_d_pos(self):\n",
        "      return self.door_pos\n",
        "\n",
        "    def _gen_grid(self, width, height):\n",
        "        # Place Dor in random location within all column the partition\n",
        "        self.pass_loc = random.choice([op_row for op_row in range(1, self.unwrapped.width-1)])\n",
        "\n",
        "        # Create an empty grid\n",
        "        self.grid = Grid(width, height)\n",
        "\n",
        "        # Generate the surrounding walls\n",
        "        self.grid.wall_rect(0, 0, width, height)\n",
        "\n",
        "        # Generate verical separation wall\n",
        "        # for i in range(0, height):\n",
        "        #     self.grid.set(5, i, Wall())\n",
        "\n",
        "\n",
        "        for column, row in self.walls_init:\n",
        "          self.grid.set(column, row, Wall())\n",
        "\n",
        "        # Place Key in random location within all the free spaces left to the partition\n",
        "        self.key_pos = (random.choice([k_col for k_col in range(1,self.partition_col)]), random.choice([k_row for k_row in range(2,self.unwrapped.height-1)]))\n",
        "        self.door_pos = (self.partition_col, self.pass_loc)\n",
        "\n",
        "        self.env_door = Door(COLOR_NAMES[0], is_locked=True)\n",
        "\n",
        "        # Place the Lava\n",
        "        # self.grid.set(4, 6, Lava())\n",
        "\n",
        "        # Place the door and key\n",
        "        self.grid.set(self.door_pos[0], self.door_pos[1], self.env_door)\n",
        "        self.grid.set(self.key_pos[0], self.key_pos[1], Key(COLOR_NAMES[0]))\n",
        "        self.goal_pos = (width - 2, height - 2)\n",
        "        # Place a goal square in the bottom-right corner\n",
        "        self.put_obj(Goal(), self.goal_pos[0], self.goal_pos[1])\n",
        "\n",
        "        # Place the agent\n",
        "        if self.agent_start_pos is not None:\n",
        "            self.agent_pos = self.agent_start_pos\n",
        "            self.agent_dir = self.agent_start_dir\n",
        "        else:\n",
        "            self.place_agent()\n",
        "\n",
        "        self.mission = \"grand mission\"\n",
        "\n",
        "    def is_carrying_key(self):\n",
        "        if 'Key' in str(self.unwrapped.carrying):\n",
        "            return True\n",
        "        return False\n",
        "\n",
        "    def is_door_open(self):\n",
        "        return self.unwrapped.env_door.is_open"
      ],
      "metadata": {
        "id": "uhkmk0Y5PCVZ"
      },
      "execution_count": null,
      "outputs": []
    },
    {
      "cell_type": "markdown",
      "source": [
        "## WRAPPER"
      ],
      "metadata": {
        "id": "UpLk4aRJPGFT"
      }
    },
    {
      "cell_type": "code",
      "source": [
        "\n",
        "ACTION_MAP = {0:0,\n",
        "              1:1,\n",
        "              2:2,\n",
        "              3:3,\n",
        "              4:5,\n",
        "              5:5}\n",
        "\n",
        "\n",
        "class KEYRGBImgObsWrapper(gym.core.ObservationWrapper):\n",
        "    \"\"\"\n",
        "    Wrapper to use fully observable RGB image as the only observation output,\n",
        "    no language/mission. This can be used to have the agent to solve the\n",
        "    gridworld in pixel space.\n",
        "    \"\"\"\n",
        "\n",
        "    def __init__(self, env, tile_size=32, plot=False, preprocess= lambda x: x):\n",
        "        super().__init__(env)\n",
        "\n",
        "        self.tile_size = tile_size\n",
        "        self.plot = plot\n",
        "        self.observation_space = spaces.Box(\n",
        "            low=0,\n",
        "            high=255,\n",
        "            # #the default is (320,320,3). Tile size  = 32 X 10 (grid size)\n",
        "            # TODO: BE CAREFULL TO CHANGE the shape size to be according your preprocess size/channels\n",
        "            # The env information i staken from here\n",
        "            shape=(320, 320, 3),\n",
        "            dtype='uint8'\n",
        "        )\n",
        "        self.prev_door = False\n",
        "        self.prev_key = False\n",
        "        self.action_space = spaces.Discrete(self.action_space.n - 2)\n",
        "\n",
        "        #TODO: THINK AND TEST DIFFERENT PREPROCESS\n",
        "        self._preprocess = lambda x: x\n",
        "\n",
        "\n",
        "    def observation(self, obs):\n",
        "      env = self.unwrapped\n",
        "\n",
        "      # Call render without any unsupported keyword arguments\n",
        "      rgb_img = env.render()  # Use the default rendering behavior\n",
        "      return rgb_img\n",
        "\n",
        "    def reset(self, seed = 0, options = None):\n",
        "        self.prev_door = False\n",
        "        self.prev_key = False\n",
        "        obs, info = super().reset()\n",
        "        if self.plot:\n",
        "            plt.show()\n",
        "        return self._preprocess(obs), info\n",
        "\n",
        "    def step(self, action):\n",
        "        action = ACTION_MAP[action]\n",
        "        obs, r, d, info, x = super().step(action)\n",
        "        obs = self._preprocess(obs)\n",
        "\n",
        "        # TODO: REWARD SHAPING\n",
        "        #we encourage you to come up with a better reward function using  self.is_door_open() and self.is_carrying_key()\n",
        "\n",
        "        return obs, r, d, info, x\n",
        "\n"
      ],
      "metadata": {
        "id": "9KRuCLDBPKRd"
      },
      "execution_count": null,
      "outputs": []
    },
    {
      "cell_type": "markdown",
      "source": [
        "## Env Info"
      ],
      "metadata": {
        "id": "TPwDWTIIPNXB"
      }
    },
    {
      "cell_type": "code",
      "source": [
        "env = KEYRGBImgObsWrapper(RandomKeyMEnv_10 (render_mode='rgb_array'))\n",
        "obs = env.reset()[0]\n",
        "print(obs.shape)\n",
        "screen = env.render()\n",
        "plt.imshow(screen)"
      ],
      "metadata": {
        "colab": {
          "base_uri": "https://localhost:8080/",
          "height": 716
        },
        "id": "tI8qzBErPQRl",
        "outputId": "13eb79f8-ecd6-481d-865b-927bf692764c"
      },
      "execution_count": null,
      "outputs": [
        {
          "output_type": "stream",
          "name": "stdout",
          "text": [
            "(320, 320, 3)\n"
          ]
        },
        {
          "output_type": "execute_result",
          "data": {
            "text/plain": [
              "<matplotlib.image.AxesImage at 0x79c215753af0>"
            ]
          },
          "metadata": {},
          "execution_count": 11
        },
        {
          "output_type": "display_data",
          "data": {
            "text/plain": [
              "<Figure size 1000x800 with 1 Axes>"
            ],
            "image/png": "[encoded data removed]"
          },
          "metadata": {}
        }
      ]
    },
    {
      "cell_type": "code",
      "source": [
        "state_size = obs.shape  # Replace with your actual state size\n",
        "action_space = env.action_space\n",
        "num_actions = action_space.n\n",
        "print(f\"Number of actions: {num_actions}\")\n",
        "print(f\"State size is: {state_size}\")"
      ],
      "metadata": {
        "colab": {
          "base_uri": "https://localhost:8080/"
        },
        "id": "w2ZqbGwLPQY8",
        "outputId": "3f99f3a5-1c86-495a-d4fd-a119e2d69464"
      },
      "execution_count": null,
      "outputs": [
        {
          "output_type": "stream",
          "name": "stdout",
          "text": [
            "Number of actions: 5\n",
            "State size is: (320, 320, 3)\n"
          ]
        }
      ]
    },
    {
      "cell_type": "markdown",
      "source": [
        "## Random action"
      ],
      "metadata": {
        "id": "lCZavukkPVcs"
      }
    },
    {
      "cell_type": "code",
      "source": [
        "env = KEYRGBImgObsWrapper(RandomKeyMEnv_10 (render_mode='rgb_array'))\n",
        "obs = env.reset()\n",
        "video_filename = '/content/vid.mp4'\n",
        "max_steps = 100\n",
        "# Evaluation\n",
        "with imageio.get_writer(video_filename, fps=10) as video:\n",
        "  obs = env.reset()\n",
        "  done = False\n",
        "  total_reward = 0\n",
        "  for step in range(max_steps):\n",
        "      action = env.action_space.sample()\n",
        "      obs, reward, done, _, _ = env.step(action)\n",
        "      next_obs = obs  # Get agent's position directly from the environment\n",
        "      video.append_data(env.render())\n",
        "      if done:\n",
        "        print(\"done\",\"reward=\", total_reward,\"num_of_steps=\",step)\n",
        "        break\n",
        "embed_mp4(video_filename)"
      ],
      "metadata": {
        "colab": {
          "base_uri": "https://localhost:8080/",
          "height": 502
        },
        "id": "al8T5jyyPZhf",
        "outputId": "22b307d6-d03f-4342-e012-302d028de5df"
      },
      "execution_count": null,
      "outputs": [
        {
          "output_type": "execute_result",
          "data": {
            "text/plain": [
              "<IPython.core.display.HTML object>"
            ],
            "text/html": [
              "\n",
              "  <video width=\"640\" height=\"480\" controls>\n",
              "    <source src=\"data:video/mp4;base64,AAAAIGZ0eXBpc29tAAACAGlzb21pc28yYXZjMW1wNDEAAAAIZnJlZQAAJ/ltZGF0AAACrgYF//+q3EXpvebZSLeWLNgg2SPu73gyNjQgLSBjb3JlIDE2MyByMzA2MCA1ZGI2YWE2IC0gSC4yNjQvTVBFRy00IEFWQyBjb2RlYyAtIENvcHlsZWZ0IDIwMDMtMjAyMSAtIGh0dHA6Ly93d3cudmlkZW9sYW4ub3JnL3gyNjQuaHRtbCAtIG9wdGlvbnM6IGNhYmFjPTEgcmVmPTMgZGVibG9jaz0xOjA6MCBhbmFseXNlPTB4MzoweDExMyBtZT1oZXggc3VibWU9NyBwc3k9MSBwc3lfcmQ9MS4wMDowLjAwIG1peGVkX3JlZj0xIG1lX3JhbmdlPTE2IGNocm9tYV9tZT0xIHRyZWxsaXM9MSA4eDhkY3Q9MSBjcW09MCBkZWFkem9uZT0yMSwxMSBmYXN0X3Bza2lwPTEgY2hyb21hX3FwX29mZnNldD0tMiB0aHJlYWRzPTMgbG9va2FoZWFkX3RocmVhZHM9MSBzbGljZWRfdGhyZWFkcz0wIG5yPTAgZGVjaW1hdGU9MSBpbnRlcmxhY2VkPTAgYmx1cmF5X2NvbXBhdD0wIGNvbnN0cmFpbmVkX2ludHJhPTAgYmZyYW1lcz0zIGJfcHlyYW1pZD0yIGJfYWRhcHQ9MSBiX2JpYXM9MCBkaXJlY3Q9MSB3ZWlnaHRiPTEgb3Blbl9nb3A9MCB3ZWlnaHRwPTIga2V5aW50PTI1MCBrZXlpbnRfbWluPTEwIHNjZW5lY3V0PTQwIGludHJhX3JlZnJlc2g9MCByY19sb29rYWhlYWQ9NDAgcmM9Y3JmIG1idHJlZT0xIGNyZj0yNS4wIHFjb21wPTAuNjAgcXBtaW49MCBxcG1heD02OSBxcHN0ZXA9NCBpcF9yYXRpbz0xLjQwIGFxPTE6MS4wMACAAAAFyWWIhAAR//73aJ8CmSAioDklcUl20+B/6tncHyP6QMAC7jXD+Wuco98brAkFmVVMIeORgBmy5S/oX6RvUz17yzYj5Wj/1PgyizcIC+nVdHmLNE8jCw1ZZUzu4NWkhHO8xEZJKyitRDEzeq7cgMeRwiAYOuIcpq0iXqo/b1mSvjv8Ldj4r2h8PNiR7ePJpB+MCevwC3w/PrCQj5Z1r/jOfYPcF91ClgOUdpBPkZBHElcX/C82TZzQW1mTuxkEVjqd430Qe/gH8MeB7QRK4nm5aVKSf6JrphU8TGFiC8NzvaZYBpjfSs1Y75/yTqBtOYbBYgwYsrtZfzrP+M6XlnHRecXSV1mHJ0XfEm0mNVUXYfp9zE81plLfPE3q9/iFFLjbI6liVVu2wacXkYfBW774I8DdaRDi8io4uMg+H/m/ZYgu02MohKFwpBpCxHSj3KdU4FQxErBmfWsk7Bf3zgjLysGqXTvD6wJ3G0jHRD+Xd3ssbzl3xeW5Bfz75toQTVzPd39RGKPlct7Mxi7b5XRU5xEg1v0OLc7Q4wx8mpgagCvCHCpW+6DWcvqMvqjlV/CmEZZ9s1YTBsCakIpJgQcIPcUethhm5/6oKgT9HvgPPVm/Ccs5fD984TqmWfUkTlxZnaElzYncKVkHrgFBn3D3PvuEnMRhN6ppP6rVIEsN+od9KpgxFi+rLUa+8laC4mRG/1FFrj/ycHAfU8tMRa0pssU1HhJ+Ech+B53QL/6BSkrU6ellUbdOC4NxbLqOFncugLXQp4fisPyaji9/31jsHs+xXgvUWKcMfj178xncj5eDPSGjTdA+GtU6K56atgst8wGEpPOGkEgbXckoFxkNdBEW4uprEBUIQfgG0dfC8+Ky4RykKJSwbl/ViBSZy2CIhGlg3L+rEBs53xdhDhstezn1qyWVj/WpqJF360FU3skM5emRp4mfqAiHIJCQq2jo++Ptj+o05wrRUj2fR1cRFJxJsAFR744hal3BbWWLPrdqquzM1ecAAAzSH/v58gmxl46+6M+ZPFPxgTspcDShfHauvhee39kvdoLEBryq7Y4BnzKePsZzw9ZDaVvug1nL6dvlcfQZUccz+S3BNTBhP6oGFsJZ9s1YTArsLP88Bt90Gs5fRCo8OHKB7u1jRD8DzFH6QTkyCRq0sOb4nwgADi6M3gcFT4cgazl9EidIhBpO8OQNZy+iT22+lFKbRcrMXGoHjE02XqNNfoGJSRrZRY6aw/vNhOA+RCy4ytB6inyfbXo+Mn7HxwicMouJsDcbIs1/I+ApIV2vk1t90LNh1ohPinqH1pR939eCXTJumY8qcvpK4wj54x+/Zdp06McaS3e0ywC6rUURlVGZLd7TLALp5VCSiAQ7V18Lz2XqyOJjMdgzTxj+xq9oA4hJ5jWPifUK6UsdalQDoYXWyzcF6zRukDPm/drE8HDqRdD6XnkZU/ZymcBa3z7n9hx8aoJ9Ei/C5HhiJ3xkRAwyBWSIOukvd/xxQz64S7tGRH+ud9wL0ogAE9upHlWKGKr8pZZdxMR3B4lm5et+IXn9pzpzSd9P//z8e+pwUqX+qqp4yhHJ75cOjb77LPk1MFug+xSw0p9SjVhMCerC8DYUcYY+TUwKBY14huji4nWcvpyBxFMblPoB1nL6bx9wA8wAxnMk/LaMWeU/JqYLzd72llRhHPRiJjw+LAp+FlAqiEW1dfC89u53ADLn7Y4BnzJ3hPBv7z9scAz5k7t9gBATUWDcv6sQHNOkLap0lu9plgF2cdAABPpj74KIBGOMITsdKxPDolc/V0LZMkIOF9wqmXx2rr4XntyHmfi9LtjgGfMndUHSGoEJVr47V18Lz28C2Cgc/azwiF5/eWHKVm8NzPk1MF83Qd6GLPtmrCYFND6Tn+/Zg209qJKwYIpcmy8ih+wUOq0OPFzwAAD76p7I/i5NLfLFR6OZbnY5RMkiOGTh1p/57dR0t04AANGBAAAA0UGaJGxBH/6plgM2tm4Lys8imAFT6pjzsrVbmoJWMLpeBsktvjXKtOR+DuzmmbOD7zd06vsJLOjeMsGAv8XKZSfrOAhtxWN8/b5O6fUBLpnxQC7z505HMzl/ERH7HdyWkbi9KkTRwePvoZ8VFI5E6ZQYVNeNGstHPRNI7ngzqIltcT+U8HzwB08hJo2/xcNmM3BaqJ3bXrjWhp0Wm/QJKlCBavptPYWubpFuVcgtp2XAf9g5Mqll6wB4W+3OsLFkFnpKLlM9GBRCkWeRAMnlSEZUAAAAFUGeQniHfwEp41h5pkgABZlS35AKGQAAABABnmF0Q38Blb6L0BhpALiAAAAACgGeY2pDfwAACkkAAADmQZpoSahBaJlMCCP//qmWAx7qaNS5N2p7gCg2z8FIHGXia3qxN2II1P3D6jIb94U//cD/D/bF0RVJCb4OBk0oW9+jm9T9WVjJoFjPKrHyYtyDweJaiULi+U6wlJCkf8BHmau+CwKxcpSuGPDzX/aes+VB7gBV5Eoj+M7OTGPEEzVN6kHdPw/Yo6zN889ILBdyZDyT8Cd5dgCpq6drTYxD/2yOFdfdm6BKb0u0LyZ0ZONyxolktV5HLpS3Qqixe1XoAMLSccYEcuq0aaDD9rBftsagQvE/1XZhR43TJpFFJO+tlYk4ooEAAAAUQZ6GRREsO/8BKeNYf3HE82hFeScAAAClAZ6ldEN/AZUXP4QMzLlg2WNR0hgBNXjcOJLX/9oqXtG4ZSTW1nAmjh8TI+g/oTJSdfU1PI+vfpRlC5rB96scLxmVFhu2rn2P8BvV9xoqNjI53F3rj1McdaOW43XheddUbgDP9eivMj/IgJ1swRuqzu7gK3D6OjLpg0XTaGMXj33BITrMhyPVY+VjMfeAx507hhbWlUpANrseiZSC6XwEnaYq/eSdAAAAjAGep2pDfwCKiOo+ABdRtT6KWkSz6R8MWyGK0mPiXKJz1HvvnbymcBaTLYOUc89OZJ2NkeQ7/1Y9HKC+yux+mZfxtenVvlfc4TF/VWm+a/IRRDfAtiBmaz8KonDBgZogcWW3K+skKY29gAmGoxoGRJQvln3ABUMAl6GU/5x8RZ0Tn8RoPfiOE6dnoH3AAAAAFEGaqkmoQWyZTBRMEf/+qZYAAAiYAAAAkAGeyWpDfwCKou6D/AAuo2p9FLRbpvH2zafY592smv0sMuXHzQb+AEeEpt/Zysur3S4IGfLGeme6NEzzr39NwIpg+mK75sCG0b308n1n7tL1g827RwMm30RJrKT7cL8qTCcboYFQ0TtfWSFVB7xmS3vHYVt4zpGNUuu5w33nnn1mOxEsED1ijKdSsrXMuegfcQAAAQJBms5J4QpSZTAgj//+qZYDIbJ4BCPVWgXLV4GPLv5guPizM6I9FgtpqNLAasA9hNmyjBgIkZVGJXA+w+AQ8BRyhEXXzMiIQV8HKPYHh8/QJP8ULXQuDpMltoQf6N5FpqoTFCh6+aSx9n9xTS/hn7MCVrPnANhOlKgWiMgc+SOiRs7CrMqSFwPSO7e056o2T94eX4HcJkDf0rcqRwsxmD31JTIe1tuFsJmMqCQ9B6+JSkLOvUWmrEmzeg2N0qf+8/n2kC4KR6/2XmXaMjPWQumAYn+CIgnRmnZy3/UmCtJKCB8ZwekTFe1BXjYqsYIqf+CAc8SIlNJQF2HzK2Edz8W+Qh4AAACuQZ7sRTRMO/8BKivasJYSISP4AFs8mWOR+JUQy9fb0xm7Mc9/8PkJbAZ9vgeXfJRh1txERJlzVb++kThTG/enWbqVyT39/xwZCml3rKq0k+1trXFHvWHMCwfiFbC+M+EsUDU31rl7R41IqeQYmV0+twkOlnpfYhsX6T8DjO2znDWdFwGJgBGObejjDLwUk91+bpw6HSRRi+xilh3bjINT55f8AEBaIQkqV5A2SLSAAAAAEAGfC3RDfwCKxc/hezZQEvEAAAASAZ8NakN/AZU5nJP4fYu4e0N7AAAAHEGbEkmoQWiZTAgj//6plgBCEdw6gFM7Y5Kgz4EAAAAMQZ8wRREsO/8AAAd0AAAACgGfT3RDfwAACkgAAAAKAZ9RakN/AAAKSQAAANhBm1ZJqEFsmUwII//+qZYDKLFdqLfz4SS6otx9eoAHQkrzjL+5kaxR8K5cYXS+7+gX309KQWFYtrPytbFWPe8Az/7FoGBHI+r6lMa7ucg2GwWq4Vs/bjxb+wUD7RZwSYb4qLvD1e93rNeC1wjglB5BUHaUuSGJiIjO6AEPD1Mr4/tX3kJfBL37US3IM+LK30+DP5sPBsFDBG6dnbgHV+7Tw7OfHq4DQ2fPdqG+B3Y5uNFEYgU3lQ/mnOFqy1mQzzNQFMwGuYDnyRAc631Fx59O2HqOp5/oNSAAAACzQZ90RRUsO/8BKf02AARB6+yHQI//cdS/w4ejFKWfwactnLl0NoyTm1ZSP4e4bTXwtIABJ5vNEnH2PETkqjyih3HPcQWi1k6n06rsHzwZAolUfIbYtnscmkHqCr6F5PraZb+RTnAgDCLZ+3alv/LCs2eLxiL9cvbA1SMbAd6nQOveNUdJpQ+LzwjDANGngP6tX54mF0vaKYn6UEd0nZXX6+VRsBN6ZtBatreICDQC39IwA1IAAAARAZ+TdEN/BDh687evWUUfA2cAAACoAZ+VakN/BDRXk4gWdt3oqn4AH89T+rmZ/+46l/dw9JTI8ISX7RzzALv6atuiS5MW5F8sOkEJHc4/mB0mDDxVYcsx+5vE7Wn4mfdklgwFpzoD9Lioeuf3abv0RAbKWqex+UtpNXRTy9E2jfMaz4FXn5wfFdmHIyMk5DUx0BTzRVtF3dD+U1APZvIICTZD6qXqokMY0fGsJUHsUdJ/swa6Iy4m0MTEHgXEAAAA6UGbmkmoQWyZTAgj//6plgKZU0ZpdtsFgbQnnNJP/HlC00AIG52cNmN/HsTl2zo41/Qllmh0/9qPSkRhWXFhK7FpfgY2sVyc8YSw60vk9Etej70tcA/qfC22bYNLnmI/QWDX94CuzwqBarKngzpA3g44eXJbtpeXsHchDY2m+ktsAoEpj5XYEi1k8x9WLzOAAnb5w+GCH+xr8+n79LYHRm54rpc0uN28qrhEWXLiFM5s7AH4AisK8VsZMGl8D8oBI+LQDvTaVKdzt9YpYc3ycw3H5waVw/1GKch9Eu7rXIMmLwq5u2EBXkI/AAAAqEGfuEUVLDv/ART4EGERmGBCh8kw+AEKeTaTEtf/2ipe2tHTIIU3XzFIpm1xbuNSLNAdupnmZk6AI3NrB+kAlhByyD6OBEw93i8/pycuFzdvmlI4Hl4yd938fe34ovOzcE1Ljg+XjjvKdrmQOfLEPIT7MHArjVoh2xkICpd2qy2ifAfxg+f8gQY6emKtP+EB1jKAN48rSVW8BTot5XOHHS/gNEyAkOh0wQAAABsBn9d0Q38BdOVifZcFbw1LkANkhjdxjPXPJuAAAAAQAZ/ZakN/AILOQh0/wYoDHwAAAJJBm95JqEFsmUwII//+qZYAbxt3AiJhUAAMeEsl0ZsrxCGsYk8749FWRpxK0ZQ8RrdoFXfz6fuYKyzrzK2ZXra2IcYCY2zg3QHreLrg9fM9gBbjS9djnvpRWT0OTEENwGiCMsYAq2/NtaUqH60ikoyqXQiaRjb0cnBwMQuO3NX8Ocj3It8a81maLyn7/5aDx5hHwAAAABNBn/xFFSw7/wBiDVsNcXAO3AY9AAAACgGeG3RDfwAACkkAAAAQAZ4dakN/AILOSQtDWmsBjwAAAKJBmgJJqEFsmUwII//+qZYCkWk9ABQLFkujMtD+Wmf9n5hRjlyl17AtRxMFW3eEI/Cmk3yGFMkqWJDIQ7qEYYCYNRDTT3yvcFxGvpL9wik2uNiodrpcQIlq7HPfTG9RxSXPjwtnWNgseAU/TPYK6GJe/UdRV3aQTLEjGgZSb5LbJuVRJpC+7dFYwYS8/Mj2gMc56C7Cm1gjO7Sx1pkPpm7eQj4AAAAbQZ4gRRUsO/8BFPwuAGZ2HPQSOxbhO9IlJF7BAAAAEwGeX3RDfwF61b+EDNKmaYPtDpgAAAAKAZ5BakN/AAAKSQAAAMRBmkZJqEFsmUwII//+qZYCoHcqmQE/IAJfXaDt0+QuDCyzQlAzYXdSWafvWnFgOxw9zzfiV2mgkftxR76i7r6TRjz7UnV8+8ssIHpFxDea4Vwz5Z79FYuZtu7mnjQR9Qyc0BfvbXf7bhtTPUXFSNCeQw23zdDsRxdCUJF4adgDK24lH/+bP2E0ZvuQVVCDBWSg3ScgLNFID5Seh3vDUJUXIJyyn//GmHKqtJesTjNZ82mGGXgIfV95kSVTLr4BsROLBBMwAAAAH0GeZEUVLDv/ART9dQArZjQURFEQJQlaa1WpFpEmgRsAAAAQAZ6DdEN/AXsgenmCTMgGDQAAAA0BnoVqQ38A3KnOYMqBAAAAokGaikmoQWyZTAgj//6plgKZ8uwNbAAMedcCmIi3AH+PVVvunGWEhrd18bfKIaySr7e5TQLf2j18jswCPHj/GAmfGp9hr++WTZetyu4NeOtz+i3Bz02scJc7T7l95Cb0TsMW4ys9rMxQ/yoDXEKeINIbdbFqeLPINdC0aQaWVMVSIxczYeQlrMcHX/fPHpQi3AZtUa3Qub26cBnXRWKszQQWcQAAACZBnqhFFSw7/wEVTx4AAjGcYfvxy5pEc9GDROruWd8tmuDMyn4DjgAAABABnsd0Q38BetW/hAzY8BxwAAAAEAGeyWpDfwF7S+HuZWZgGDEAAAD/QZrOSahBbJlMCCP//qmWAyIBogCJrZ+BwSm09kp/8FR7m0/7enPUzYu77/F5JnuPtEh/9TTGK5o4WvIW9R7+/oDnM0XoA9pEgwpDqQNaH6Z9ziyA9hhiVAqlcZInHn3q6r8Iyac/1XTOazrsKfTSHV/I6L41ETHzkZ4GP5kukvbfiEpwdHt0u1C2U6JcJAvOyrLZEBIN9gaGmxdp8bgRnDsL3y0Fupakz06BlRvPhZwzX20Ed/3KYK0weq+YZkHyRIP/e0k9UpqN+KUckrG7XjoU3jZVNEaZqVHLoUZg5XIFmUHntFIQt4cLt1wmNRya/kH4Q/3lejEEJiGPaAccAAAAy0Ge7EUVLDv/ASow6MARMeryPS7JRKevinqgh8I+Y4l/gab3DKTbZB7Ta8Y0bTNliKl3ULgD41Ir+XbL8+Z8JPoUvq62QOyaXXVUrRSgrsGZkY1eHHJZLBbEl0MDwiBs6adUqpZzyCKxR6CTYyr/mYXdfPl7cnv/znZlFBpGRJvCrdSIOkLFYlrZjVAkSiMGS9DwQgW5VnLC4ZWTwFm4LF3JxJaXKYq2NhomPMWGLQ+iQ3UeV4Pn/m3Joj6BOIsvn8RB3mRdxf2sANSAAAAAEgGfC3RDfwGVFz8IPP05md6GpQAAABABnw1qQ38BlZx1Rz9e8BsxAAAAE0GbEkmoQWyZTAgj//6plgAACJkAAAATQZ8wRRUsO/8BKmCBDMm5s2BswAAAABABn090Q38BlRc/hAzY8BswAAAADwGfUWpDfwGVOZyT+NIBcQAAAOZBm1ZJqEFsmUwII//+qZYDHyjVrQ+TACMrabo/lntqWByAkM8OSeNp5OBu9ZYZCf+7nHSk9f6nNtePOu2dIoGmOUmoG4OwyHL66rkJUVD14vs4ANm/lClOQmZ1mpzgh4G5hjz+DWwmVAtMh8wcCxF4/6lsxONacMcehsYiWAS/RNy2g66SqaaPL8FT5pjy34SU1ZKlzY6vOEsqlMXCxSSIoHn57WqO4e1UBOx9pp8IemGM7rgYNLMCZt6OKCL4lxXOSCGXcscFZJFxsc5yZrmsXtjFjNBIOVJjI8l6aH40lP7p9WBiwAAAABJBn3RFFSw7/wEpZLcnUPl9AQsAAACUAZ+TdEN/AY1EcMcqTjwALqO8BCEV4Jl4HU18UL4+jlNlllihIVNk1iueK7Do3vfPWFYCluPFa0RHYrSNndCzN2V/R0VBVqhdpeycWcniBSwh+NHxI4rn2oG8sk/YTZ6cfFlE0qAVPk0xy11FlC/DPaS7GdcXIGqBYXQmp9T4uLwv3mC6ZOl0mbLbm/UZh6jnvlgUMQAAAAoBn5VqQ38AAApIAAAAE0GbmkmoQWyZTAgj//6plgAACJkAAAC1QZ+4RRUsO/8BJDWTEXyEwA3XqPkenJ3e6D6aGLrd+re9utDLTTcytuZV6mQf8Ls2GQ32jxNwP685Rfb1XdIjlCY+kIADqTaZOxj/rh52b5xHVA8aZK6cQ6bEoqb5BKh84db/cwEDydVO/Ba6a5zxum0sWFBTAbOMOi5plJbEJHNGGXZcQdwzeE6QsUF8lAKAAgO9QNWSJeoRVNmnfFZbXgD3yL2c+/L/Dxn63BG1NmxQAyAUMQAAABABn9d0Q38Blb6L0BhpALiAAAAAEAGf2WpDfwGVnHVHP17wGzEAAADiQZveSahBbJlMCCP//qmWAx54xGN9gUSIAW0eRvXIdHoMg/8E25bzsj/IYA/CSmO6uVsRAdWshkhyxK4J0H1Xy8N2eNmhqAdYaWPFGVKexBzgBnGyHsVRVWv+Px6368ATNpK+A3W3/6tfmk8MAvCVXm6Z+/Wr3tf5idsGy/KkuSZLtmONVhvdjdqHF1ncwW1wk5AlMDMepDaHNJw+xhdtW3hRrCLD1HUfrh5D+iwhUySIrfP92gpjmxLZf1lCn8Gh1RLjDN0vwaJ5qFvuFAWxm5sOSTHOVmiHkTEeRun4f8BzQAAAABNBn/xFFSw7/wEphhKbC6UVdgbNAAAACgGeG3RDfwAACkkAAACTAZ4dakN/AY0n489dyoAC6jvAQhFeCZeB1NfFC+Po5TZZZYoSFTZNYrniuw6N73z1hWApbjxWtER2K0jZ3Qszdlf0dFQVaoXaXsnFnJ4gUsIfjR8SOK59qBvLJP2E2enHxZRNKgFT5NMctdRZQvwz2kuxnXFyBqgWF0JqfU+Li8L95gumTpdJmy25v1GYeo575YFDAAAAsUGaAkmoQWyZTAgj//6plgMfJ3VLnsoALquhCYfg9TGXr54S1uZex6H/ARWN6MDl809qGpHRyQ7jhzIJHkWWRCO8lSr+XwIbAJpdUESgBcO8IdoW7Au0XZv6iZ3Kyg8ATpZM93fPun97ib0z1z0tonv1LheIAFAxW8nlQnzWGNvZ+7AWc1uWkTVSzvkFNEZIFmvZOUhID7X6jipjzcVt+qmdGLCH0UuOe3F/nIAXywCbgAAAABJBniBFFSw7/wEqK9qwlhTcBcUAAAAKAZ5fdEN/AAAKSAAAABABnkFqQ38BlF6Jvx2emgQtAAAA9UGaRkmoQWyZTAgj//6plgMosdcnkALaQgcQ9SbLa//B7+fqSwuPtx7e9o28+iOGQ3PLp+QnXmElfsG7yU24Drcgt8c5C3Jj8aLMJbtR1rhNmy/jv9ZHM4sVant04pRUtSBNGz2e9OUCdvtXwA/PuG9nNOe0SKIQvdOZzD1T2nGJxFHc0/Yn9UipuKvUmcSsrvHNEGNsuxpM75L1RsAvgwR9/I2fFHzpXZFEuzWxZKKJ/0RvEATSQ6qsVRB6oeQOi+KA+CeRzyfpPrdpwho9bLUp1w6xR87wrpekmaBpr4K2z4oAO1ZiAdEPZ9ZG4LY9CgpzCCpgAAAAEkGeZEUVLDv/ASnjWH9x74C4gQAAAIoBnoN0Q38BjTFu6nYMALeNqfRSS25YF75h/ODH0n3q3eDbJ8yLHnUgcpmS1dOB7Zf7r8oebXXJm0kpCqPvIul4eOlTledeIoAv4Y6Fab8QoODIHR+eYp1wTD21eCPHBRr89d+SLbABNB5tjTWO3/Q+3s/LCNNEoNp8c2TWxaVKZlB72ilX1u2gQsEAAAAKAZ6FakN/AAAKSQAAAN5BmopJqEFsmUwII//+qZYDH1bY7spDq4AbseXMsi+NQiGdyyj4aKsAIywrcRZaG92mldUEFwDcQl5/8XzOXDA4VVCmr7NztWBboEucAPNQQAuK2hFQodCimtcrJsv2imwnyqZFSWblP1T161PqNN0pD0jMgZF3EklTzdwIHAIQCBvVaFg/KHvaIxYxosMLZL2Jd/BGvSpnqCvnUJo5hxO83fMpR/CcoTj8Oi30mGZ34kjhn5DX1scYun7IE5RFpnOSS2efDcKkBdU/SP1xYlkMnMX7f1/B+W0TdsKJgj8AAAASQZ6oRRUsO/8BKivasJYU3AXEAAAACgGex3RDfwAACkgAAAAQAZ7JakN/AZWcdUc/XvAbMQAAABNBms5JqEFsmUwII//+qZYAAAiYAAAAqEGe7EUVLDv/ASRGL6TP/hYAQp5NpNxf//sBpttWVl3QsanuvCXVwmR9BcNPTDAR+3IaD9XG7gxh1mywf2LKGsNk/SY5QhTKzZ/RAH2WsGj13F3s7CAsZki3WHCUyjjfzBsNIAo1ENqOp1Zh5pBPU15PiQEoMzjFaOZBRB31+FoEbGCcHaUDzKLAo4zrKLTIuMnRnrK6S8184HTExG8u52/h9833hJwFxAAAAJQBnwt0Q38BjSf6sAa4AW8d4CEJkWxpnqMjM7fh+Yv1OLunL53y6I18jpUjLz6ocmE1BmIj5CIsgPWxT4H/ZFFi5QlyPjLd/Uo1pk3vMWSVSsS9FhhogZ0suIVF99SyF2zv15zuc0v2FMZjhZk76u2eO0l2EEfifjbmAa03wIoiNPRiZVcqBtb3TTF2hBc4XYNsWBQxAAAApgGfDWpDfwGNRGn4APILAAnb1P6xQz/+46l/dw9RLV+tRL9pAdVRd9W2rokuTFuRfJLvSS78kD8wOkwfdrFyHpje64ckSCa4EyKB/3rTnQIaca9OrPm2Hf1YbH67080+HxBj12Nu1r5m12F0obcogzTbQMjJLeWSVmYDwtsPPn/qKJZnqHIATHI8R4V6UzYWJCOP2YPbEPznVcBJMYVyMXPuqDKgQsEAAADhQZsSSahBbJlMCCP//qmWAx6waaWvCDqjkAOPc7OQ9PWOHv/whiD6sO+MWbE9ej7OriB/T++Lx3CF7g9iaX4m5cQJ1HukzLZWp2DxfQxRX5TPc01/+lNI0zM0vpRmZQk24gv0y+ToT+TxKL7KqE3P9QYr3raif1OywrPd9/MtAvL0zzNGEWK43MNHpsLnrHYipkuggWQdRhBlo4HRAMoqQK5R3ThFBWNG/iyJS+0jDSce06zvNwYeFE+2xIjZxeyhav+sGOO79WYwPPHM8EO6KEjl+EsyNr/l0Y21brglqwMXAAAAEkGfMEUVLDv/ASor2rCWFNwFxAAAAAoBn090Q38AAApIAAAAEAGfUWpDfwGVnHVHP17wGzEAAAD/QZtWSahBbJlMCCP//qmWAx8+adGL1RFuljXbQvgWvAgZ4AWGSvO8yiuAkTwEv7L2O2rMPvaaj7OfJxaZeEI0HuY1kZdPtt2eQ5xSZGUaNlinQpAcWG14vwSXEhLfdSp/2xkJheJEo1vavyRHGSeaG5coroqXCo0Hh6emqcIZAjLt/wvkEiZ8+Mfh5+TIraNiUPgjgcQQ1a5U1BsC2LTDCNoNeAx6ugmOdGXk5QGZ2WJswb30KOOWqQEZvK7zfwDVncamEtWlwPJLOUvvF+F8ymtzYyoy5DZqTRA9Gt1/Nu0Qky/Vt47ICxo17YgBAIuqqD/FR8HypOslQCSI5QMCAAAAFUGfdEUVLDv/ASnjV7nC6B5ME8QZ8AAAABMBn5N0Q38Blb11cDNUAo3k4H5BAAAADQGflWpDfwFlU5jA9IAAAAATQZuaSahBbJlMCCP//qmWAAAImQAAAKBBn7hFFSw7/wEPvxrfVgqelwAbUcCgkS1//aKl7ImOrr5nqS23rdBdhmhqu/mtgwvbncSSHCsF6ZbNrnWp21c+x+6YeLR/bKjKDXkJQG9pI3GBtb86mlGQN7irujDTkLlWj6Mx18DWT5W6n+HedNT0Ls5PEcTE01fTpMF03Za+KnDnwXGQZCWOKOJxBCIiBAmMr5GjX6Pvlu87F2NdLwfNAAAAEQGf13RDfwOfZkG3r3tFNgOOAAAAEQGf2WpDfwOcaVOIhsS9WA45AAAAG0Gb3kmoQWyZTAgh//6plgKSTRXArebftQQWcAAAABJBn/xFFSw7/wEVNZqxJohcBx0AAAAKAZ4bdEN/AAAKSQAAABABnh1qQ38Be0vh7mVmYBgwAAAAo0GaAkmoQWyZTAh3//6eEBJxdKG84ATV5OLh8oJN+viECNb7zPFO9m37/IHEHwrcKurwOjpG7SboMwGaNe24b3zUSb4iGd7FaS0mtfLAmn4KLY11mOXI1OET97CzvqjDoKxvWdarRDm0sKD5geChNrosSGDA6rkEeX+MXR2lN5iTL88xIW4INcr5B6yaz5g0QrK4Q7Pv8qPbr/INkITVuRjYGfAAAAAUQZ4gRRUsO/8BFWGxfLehLWbEHpEAAAARAZ5fdEN/AXtlWsvvCECUJeAAAACRAZ5BakN/AXT+lkTW84SIMALeNqfRShIzPfsnPnzPM0dXEelRHKpMKEX2ejAn5TAqPyCXC8o3b8n1p0KEZ6WlcX4fDPKSO38gh7mGtw+l+JK030+vHjatAp4hlu5oy9xLGCTMb3iVR34B/waEyBYlyjGgZGVwfK74Ny8ImXQwsjAYnDFg9DIZSTyC8QALgWgz4QAAABpBmkNJqEFsmUwIb//+jLAStcCGZhCp3lIMaAAAB9ltb292AAAAbG12aGQAAAAAAAAAAAAAAAAAAAPoAAAnEAABAAABAAAAAAAAAAAAAAAAAQAAAAAAAAAAAAAAAAAAAAEAAAAAAAAAAAAAAAAAAEAAAAAAAAAAAAAAAAAAAAAAAAAAAAAAAAAAAAAAAAACAAAHA3RyYWsAAABcdGtoZAAAAAMAAAAAAAAAAAAAAAEAAAAAAAAnEAAAAAAAAAAAAAAAAAAAAAAAAQAAAAAAAAAAAAAAAAAAAAEAAAAAAAAAAAAAAAAAAEAAAAABQAAAAUAAAAAAACRlZHRzAAAAHGVsc3QAAAAAAAAAAQAAJxAAAAgAAAEAAAAABnttZGlhAAAAIG1kaGQAAAAAAAAAAAAAAAAAACgAAAGQAFXEAAAAAAAtaGRscgAAAAAAAAAAdmlkZQAAAAAAAAAAAAAAAFZpZGVvSGFuZGxlcgAAAAYmbWluZgAAABR2bWhkAAAAAQAAAAAAAAAAAAAAJGRpbmYAAAAcZHJlZgAAAAAAAAABAAAADHVybCAAAAABAAAF5nN0YmwAAACuc3RzZAAAAAAAAAABAAAAnmF2YzEAAAAAAAAAAQAAAAAAAAAAAAAAAAAAAAABQAFAAEgAAABIAAAAAAAAAAEAAAAAAAAAAAAAAAAAAAAAAAAAAAAAAAAAAAAAAAAAAAAY//8AAAA0YXZjQwFkABX/4QAYZ2QAFazZQUCmhAAAAwAEAAADAFA8WLZYAQAFaOvnLIv9+PgAAAAAFGJ0cnQAAAAAAAAf9AAAH/QAAAAYc3R0cwAAAAAAAAABAAAAZAAABAAAAAAUc3RzcwAAAAAAAAABAAAAAQAAAzBjdHRzAAAAAAAAAGQAAAABAAAIAAAAAAEAABQAAAAAAQAACAAAAAABAAAAAAAAAAEAAAQAAAAAAQAAFAAAAAABAAAIAAAAAAEAAAAAAAAAAQAABAAAAAABAAAMAAAAAAEAAAQAAAAAAQAAFAAAAAABAAAIAAAAAAEAAAAAAAAAAQAABAAAAAABAAAUAAAAAAEAAAgAAAAAAQAAAAAAAAABAAAEAAAAAAEAABQAAAAAAQAACAAAAAABAAAAAAAAAAEAAAQAAAAAAQAAFAAAAAABAAAIAAAAAAEAAAAAAAAAAQAABAAAAAABAAAUAAAAAAEAAAgAAAAAAQAAAAAAAAABAAAEAAAAAAEAABQAAAAAAQAACAAAAAABAAAAAAAAAAEAAAQAAAAAAQAAFAAAAAABAAAIAAAAAAEAAAAAAAAAAQAABAAAAAABAAAUAAAAAAEAAAgAAAAAAQAAAAAAAAABAAAEAAAAAAEAABQAAAAAAQAACAAAAAABAAAAAAAAAAEAAAQAAAAAAQAAFAAAAAABAAAIAAAAAAEAAAAAAAAAAQAABAAAAAABAAAUAAAAAAEAAAgAAAAAAQAAAAAAAAABAAAEAAAAAAEAABQAAAAAAQAACAAAAAABAAAAAAAAAAEAAAQAAAAAAQAAFAAAAAABAAAIAAAAAAEAAAAAAAAAAQAABAAAAAABAAAUAAAAAAEAAAgAAAAAAQAAAAAAAAABAAAEAAAAAAEAABQAAAAAAQAACAAAAAABAAAAAAAAAAEAAAQAAAAAAQAAFAAAAAABAAAIAAAAAAEAAAAAAAAAAQAABAAAAAABAAAUAAAAAAEAAAgAAAAAAQAAAAAAAAABAAAEAAAAAAEAABQAAAAAAQAACAAAAAABAAAAAAAAAAEAAAQAAAAAAQAAFAAAAAABAAAIAAAAAAEAAAAAAAAAAQAABAAAAAABAAAUAAAAAAEAAAgAAAAAAQAAAAAAAAABAAAEAAAAAAEAABQAAAAAAQAACAAAAAABAAAAAAAAAAEAAAQAAAAAAQAAFAAAAAABAAAIAAAAAAEAAAAAAAAAAQAABAAAAAABAAAIAAAAABxzdHNjAAAAAAAAAAEAAAABAAAAZAAAAAEAAAGkc3RzegAAAAAAAAAAAAAAZAAACH8AAADVAAAAGQAAABQAAAAOAAAA6gAAABgAAACpAAAAkAAAABgAAACUAAABBgAAALIAAAAUAAAAFgAAACAAAAAQAAAADgAAAA4AAADcAAAAtwAAABUAAACsAAAA7QAAAKwAAAAfAAAAFAAAAJYAAAAXAAAADgAAABQAAACmAAAAHwAAABcAAAAOAAAAyAAAACMAAAAUAAAAEQAAAKYAAAAqAAAAFAAAABQAAAEDAAAAzwAAABYAAAAUAAAAFwAAABcAAAAUAAAAEwAAAOoAAAAWAAAAmAAAAA4AAAAXAAAAuQAAABQAAAAUAAAA5gAAABcAAAAOAAAAlwAAALUAAAAWAAAADgAAABQAAAD5AAAAFgAAAI4AAAAOAAAA4gAAABYAAAAOAAAAFAAAABcAAACsAAAAmAAAAKoAAADlAAAAFgAAAA4AAAAUAAABAwAAABkAAAAXAAAAEQAAABcAAACkAAAAFQAAABUAAAAfAAAAFgAAAA4AAAAUAAAApwAAABgAAAAVAAAAlQAAAB4AAAAUc3RjbwAAAAAAAAABAAAAMAAAAGJ1ZHRhAAAAWm1ldGEAAAAAAAAAIWhkbHIAAAAAAAAAAG1kaXJhcHBsAAAAAAAAAAAAAAAALWlsc3QAAAAlqXRvbwAAAB1kYXRhAAAAAQAAAABMYXZmNTguNzYuMTAw\" type=\"video/mp4\">\n",
              "  Your browser does not support the video tag.\n",
              "  </video>"
            ]
          },
          "metadata": {},
          "execution_count": 14
        }
      ]
    }
  ]
}